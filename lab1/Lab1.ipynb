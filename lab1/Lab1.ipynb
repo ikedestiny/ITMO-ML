{
  "cells": [
    {
      "cell_type": "markdown",
      "metadata": {
        "id": "UsMLKLGdJD3R"
      },
      "source": [
        "##ЛР1. Pandas, EDA, линейная регрессия\n",
        "\n",
        "[8 + 5 бонусных баллов]"
      ]
    },
    {
      "cell_type": "markdown",
      "metadata": {
        "id": "NvivYUMbJNs2"
      },
      "source": [
        "## О формате сдачи (все ЛР)\n",
        "\n",
        "🔷 **<font color='plum'>При решении используйте данный шаблон</font>**\n",
        "\n",
        "    ✅ Можно добавлять новые ячейки любых типов\n",
        "    ❌ Не нужно удалять текстовые ячейки c разметкой частей ноутбука и формулировками заданий\n",
        "\n",
        "\n",
        "🔷 **<font color='plum'>При оценивании задач учитывается код</font>**\n",
        "\n",
        "    ✅ Задания, в которых необходим код, могут помечаться фразами \"Your code here\"/\"Ваш код\" и аналогичными\n",
        "    ❌ Ответы на вопросы без сопутствующего кода оцениваются в 0 баллов\n",
        "    ❌ Наличие работоспособного кода в ноутбуке, если на сказано иного, обязательно\n",
        "\n",
        "🔷 **<font color='plum'>При оценивании задач учитываются выводы</font>**\n",
        "\n",
        "    ✅ Задания, в которых необходимы выводы, могут помечаться фразами \"Вывод\"/\"Ответ на вопрос\"/\"Ваш текст\" и аналогичными\n",
        "    ✅ Выводы подразумевают текстовый (письменный, не устный) ответ (можно писать markdown, latex).\n",
        "    ✅ Сопутствующие изображения, графики, таблички - приветствуются!\n",
        "    ❌ При отсутствии выводов задание не засчитается на полный балл\n",
        "\n",
        "🔷 **<font color='plum'>Устная защита</font>**\n",
        "\n",
        "    ❌❌❌ Если не пройдена устная защита по ЛР, то баллы не начисляются вовсе\n",
        "    (вопросы устной защиты охватывают лекционный материал и практический материал по заданиям ЛР, список вопросов не публикуется)"
      ]
    },
    {
      "cell_type": "markdown",
      "metadata": {
        "id": "ZPFX0LQQ4U-l"
      },
      "source": [
        "## Этапы\n",
        "\n",
        "<font color='DarkOrange'>**Задание 1 [баллов: 4]:**</font>\n",
        "\n",
        "Выберите датасет и задачу для него (регрессия) - с Kaggle или UCI Machine Learning Repository (https://archive.ics.uci.edu/datasets).\n",
        "Важно: используйте более новые датасеты, кол-во объектов не менее 100\n",
        "\n",
        "Выполните EDA.\n",
        "Придумайте вопросы к данным, которые потребуют использования следующих инструментов (напишите каждый вопрос и код к нему) [<font color='DarkOrange'>0,5 балла за покрытие каждого пункта</font>]:\n",
        "- группировка с агрегацией (groupby),\n",
        "- изменение дискретности по времени (resample),\n",
        "- объединение датафреймов (merge,join или concat),\n",
        "- статическая визуализация seaborn,\n",
        "- интерактивный график plotly,\n",
        "- визуализация распределений (гистограмма относительных частот, kde, boxplot, violinplot, scatter),\n",
        "- тесты на свойства распределения (например, нормальность),\n",
        "- One Hot Encoding для категориальных признаков (если их нет, то придумайте как некие классы, определяемые по другим числовым признакам)  "
      ]
    },
    {
      "cell_type": "code",
      "execution_count": 4,
      "metadata": {},
      "outputs": [
        {
          "name": "stdout",
          "output_type": "stream",
          "text": [
            "Размер данных: (1000, 16)\n"
          ]
        },
        {
          "data": {
            "text/plain": [
              "Index(['student_id', 'age', 'gender', 'study_hours_per_day',\n",
              "       'social_media_hours', 'netflix_hours', 'part_time_job',\n",
              "       'attendance_percentage', 'sleep_hours', 'diet_quality',\n",
              "       'exercise_frequency', 'parental_education_level', 'internet_quality',\n",
              "       'mental_health_rating', 'extracurricular_participation', 'exam_score'],\n",
              "      dtype='object')"
            ]
          },
          "execution_count": 4,
          "metadata": {},
          "output_type": "execute_result"
        }
      ],
      "source": [
        "import pandas as pd\n",
        "import numpy as np\n",
        "import matplotlib.pyplot as plt\n",
        "import seaborn as sns\n",
        "from sklearn.model_selection import train_test_split\n",
        "from sklearn.linear_model import LinearRegression, Ridge\n",
        "from sklearn.preprocessing import StandardScaler, RobustScaler\n",
        "from sklearn.pipeline import Pipeline\n",
        "from sklearn.metrics import mean_squared_error, mean_absolute_error, r2_score\n",
        "from sklearn.feature_selection import SelectKBest, f_regression\n",
        "import warnings\n",
        "warnings.filterwarnings('ignore')\n",
        "\n",
        "# Загрузка данных\n",
        "df = pd.read_csv('/home/destiny/ITMO/СИИ/lab1/student_habits_performance.csv')\n",
        "print(f\"Размер данных: {df.shape}\")\n",
        "df.columns"
      ]
    },
    {
      "cell_type": "markdown",
      "metadata": {},
      "source": [
        "# группировка с агрегацией (groupby),\n",
        "\n",
        "- Вопрос: Как средняя exam_score зависит от study_hours_per_day и social_media_hours?\n"
      ]
    },
    {
      "cell_type": "code",
      "execution_count": 18,
      "metadata": {},
      "outputs": [
        {
          "name": "stdout",
          "output_type": "stream",
          "text": [
            "Средняя exam_score по study_hours_per_day\n",
            "                    exam_score                    \n",
            "                          mean  median   std count\n",
            "study_hours_per_day                               \n",
            "7.3                     100.00  100.00   NaN     1\n",
            "7.5                     100.00  100.00   NaN     1\n",
            "8.2                     100.00  100.00   NaN     1\n",
            "7.6                     100.00  100.00   NaN     1\n",
            "6.9                     100.00  100.00   NaN     1\n",
            "...                        ...     ...   ...   ...\n",
            "0.5                      39.52   41.45  6.74     4\n",
            "0.3                      32.62   33.80  4.04     4\n",
            "0.2                      31.50   31.50   NaN     1\n",
            "0.9                      29.53   27.60  7.59     3\n",
            "0.6                      18.40   18.40   NaN     1\n",
            "\n",
            "[78 rows x 4 columns]\n"
          ]
        }
      ],
      "source": [
        "exam_score_by_study_hours = df.groupby(['study_hours_per_day']).agg({\n",
        "    'exam_score': ['mean', 'median', 'std', 'count'],\n",
        "}).round(2).sort_values(by=('exam_score', 'mean'), ascending=False)\n",
        "\n",
        "print(\"Средняя exam_score по study_hours_per_day\")\n",
        "print(exam_score_by_study_hours)\n"
      ]
    },
    {
      "cell_type": "markdown",
      "metadata": {},
      "source": [
        "# изменение дискретности по времени (resample),"
      ]
    },
    {
      "cell_type": "code",
      "execution_count": null,
      "metadata": {},
      "outputs": [
        {
          "ename": "ValueError",
          "evalue": "Bin labels must be one fewer than the number of bin edges",
          "output_type": "error",
          "traceback": [
            "\u001b[31m---------------------------------------------------------------------------\u001b[39m",
            "\u001b[31mValueError\u001b[39m                                Traceback (most recent call last)",
            "\u001b[36mCell\u001b[39m\u001b[36m \u001b[39m\u001b[32mIn[21]\u001b[39m\u001b[32m, line 5\u001b[39m\n\u001b[32m      2\u001b[39m bins = [\u001b[32m60\u001b[39m, \u001b[32m75\u001b[39m, \u001b[32m85\u001b[39m,\u001b[32m90\u001b[39m]  \u001b[38;5;66;03m# Define the bin edges\u001b[39;00m\n\u001b[32m      3\u001b[39m labels = [\u001b[33m'\u001b[39m\u001b[33mF\u001b[39m\u001b[33m'\u001b[39m, \u001b[33m'\u001b[39m\u001b[33mC\u001b[39m\u001b[33m'\u001b[39m, \u001b[33m'\u001b[39m\u001b[33mB\u001b[39m\u001b[33m'\u001b[39m,\u001b[33m'\u001b[39m\u001b[33mA\u001b[39m\u001b[33m'\u001b[39m]  \u001b[38;5;66;03m# Labels for the bins\u001b[39;00m\n\u001b[32m----> \u001b[39m\u001b[32m5\u001b[39m df[\u001b[33m'\u001b[39m\u001b[33mscore_bin\u001b[39m\u001b[33m'\u001b[39m] = \u001b[43mpd\u001b[49m\u001b[43m.\u001b[49m\u001b[43mcut\u001b[49m\u001b[43m(\u001b[49m\u001b[43mdf\u001b[49m\u001b[43m[\u001b[49m\u001b[33;43m'\u001b[39;49m\u001b[33;43mexam_score\u001b[39;49m\u001b[33;43m'\u001b[39;49m\u001b[43m]\u001b[49m\u001b[43m,\u001b[49m\u001b[43m \u001b[49m\u001b[43mbins\u001b[49m\u001b[43m=\u001b[49m\u001b[43mbins\u001b[49m\u001b[43m,\u001b[49m\u001b[43m \u001b[49m\u001b[43mlabels\u001b[49m\u001b[43m=\u001b[49m\u001b[43mlabels\u001b[49m\u001b[43m,\u001b[49m\u001b[43m \u001b[49m\u001b[43mright\u001b[49m\u001b[43m=\u001b[49m\u001b[38;5;28;43;01mFalse\u001b[39;49;00m\u001b[43m)\u001b[49m\n\u001b[32m      7\u001b[39m \u001b[38;5;66;03m# Check the resulting bins\u001b[39;00m\n\u001b[32m      8\u001b[39m \u001b[38;5;28mprint\u001b[39m(df.groupby(\u001b[33m'\u001b[39m\u001b[33mscore_bin\u001b[39m\u001b[33m'\u001b[39m).size())  \u001b[38;5;66;03m# Count of records in each bin\u001b[39;00m\n",
            "\u001b[36mFile \u001b[39m\u001b[32m~/.local/lib/python3.13/site-packages/pandas/core/reshape/tile.py:257\u001b[39m, in \u001b[36mcut\u001b[39m\u001b[34m(x, bins, right, labels, retbins, precision, include_lowest, duplicates, ordered)\u001b[39m\n\u001b[32m    254\u001b[39m     \u001b[38;5;28;01mif\u001b[39;00m \u001b[38;5;129;01mnot\u001b[39;00m bins.is_monotonic_increasing:\n\u001b[32m    255\u001b[39m         \u001b[38;5;28;01mraise\u001b[39;00m \u001b[38;5;167;01mValueError\u001b[39;00m(\u001b[33m\"\u001b[39m\u001b[33mbins must increase monotonically.\u001b[39m\u001b[33m\"\u001b[39m)\n\u001b[32m--> \u001b[39m\u001b[32m257\u001b[39m fac, bins = \u001b[43m_bins_to_cuts\u001b[49m\u001b[43m(\u001b[49m\n\u001b[32m    258\u001b[39m \u001b[43m    \u001b[49m\u001b[43mx_idx\u001b[49m\u001b[43m,\u001b[49m\n\u001b[32m    259\u001b[39m \u001b[43m    \u001b[49m\u001b[43mbins\u001b[49m\u001b[43m,\u001b[49m\n\u001b[32m    260\u001b[39m \u001b[43m    \u001b[49m\u001b[43mright\u001b[49m\u001b[43m=\u001b[49m\u001b[43mright\u001b[49m\u001b[43m,\u001b[49m\n\u001b[32m    261\u001b[39m \u001b[43m    \u001b[49m\u001b[43mlabels\u001b[49m\u001b[43m=\u001b[49m\u001b[43mlabels\u001b[49m\u001b[43m,\u001b[49m\n\u001b[32m    262\u001b[39m \u001b[43m    \u001b[49m\u001b[43mprecision\u001b[49m\u001b[43m=\u001b[49m\u001b[43mprecision\u001b[49m\u001b[43m,\u001b[49m\n\u001b[32m    263\u001b[39m \u001b[43m    \u001b[49m\u001b[43minclude_lowest\u001b[49m\u001b[43m=\u001b[49m\u001b[43minclude_lowest\u001b[49m\u001b[43m,\u001b[49m\n\u001b[32m    264\u001b[39m \u001b[43m    \u001b[49m\u001b[43mduplicates\u001b[49m\u001b[43m=\u001b[49m\u001b[43mduplicates\u001b[49m\u001b[43m,\u001b[49m\n\u001b[32m    265\u001b[39m \u001b[43m    \u001b[49m\u001b[43mordered\u001b[49m\u001b[43m=\u001b[49m\u001b[43mordered\u001b[49m\u001b[43m,\u001b[49m\n\u001b[32m    266\u001b[39m \u001b[43m\u001b[49m\u001b[43m)\u001b[49m\n\u001b[32m    268\u001b[39m \u001b[38;5;28;01mreturn\u001b[39;00m _postprocess_for_cut(fac, bins, retbins, original)\n",
            "\u001b[36mFile \u001b[39m\u001b[32m~/.local/lib/python3.13/site-packages/pandas/core/reshape/tile.py:493\u001b[39m, in \u001b[36m_bins_to_cuts\u001b[39m\u001b[34m(x_idx, bins, right, labels, precision, include_lowest, duplicates, ordered)\u001b[39m\n\u001b[32m    491\u001b[39m \u001b[38;5;28;01melse\u001b[39;00m:\n\u001b[32m    492\u001b[39m     \u001b[38;5;28;01mif\u001b[39;00m \u001b[38;5;28mlen\u001b[39m(labels) != \u001b[38;5;28mlen\u001b[39m(bins) - \u001b[32m1\u001b[39m:\n\u001b[32m--> \u001b[39m\u001b[32m493\u001b[39m         \u001b[38;5;28;01mraise\u001b[39;00m \u001b[38;5;167;01mValueError\u001b[39;00m(\n\u001b[32m    494\u001b[39m             \u001b[33m\"\u001b[39m\u001b[33mBin labels must be one fewer than the number of bin edges\u001b[39m\u001b[33m\"\u001b[39m\n\u001b[32m    495\u001b[39m         )\n\u001b[32m    497\u001b[39m \u001b[38;5;28;01mif\u001b[39;00m \u001b[38;5;129;01mnot\u001b[39;00m \u001b[38;5;28misinstance\u001b[39m(\u001b[38;5;28mgetattr\u001b[39m(labels, \u001b[33m\"\u001b[39m\u001b[33mdtype\u001b[39m\u001b[33m\"\u001b[39m, \u001b[38;5;28;01mNone\u001b[39;00m), CategoricalDtype):\n\u001b[32m    498\u001b[39m     labels = Categorical(\n\u001b[32m    499\u001b[39m         labels,\n\u001b[32m    500\u001b[39m         categories=labels \u001b[38;5;28;01mif\u001b[39;00m \u001b[38;5;28mlen\u001b[39m(\u001b[38;5;28mset\u001b[39m(labels)) == \u001b[38;5;28mlen\u001b[39m(labels) \u001b[38;5;28;01melse\u001b[39;00m \u001b[38;5;28;01mNone\u001b[39;00m,\n\u001b[32m    501\u001b[39m         ordered=ordered,\n\u001b[32m    502\u001b[39m     )\n",
            "\u001b[31mValueError\u001b[39m: Bin labels must be one fewer than the number of bin edges"
          ]
        }
      ],
      "source": [
        "# Creating bins based on exam_score ranges\n",
        "bins = [60,75,85,90]  # Define the bin edges\n",
        "labels = ['F', 'C', 'B','A']  # Labels for the bins\n",
        "\n",
        "df['score_bin'] = pd.cut(df['exam_score'], bins=bins, labels=labels, right=False)\n",
        "\n",
        "# Check the resulting bins\n",
        "print(df.groupby('score_bin').size())  # Count of records in each bin\n"
      ]
    },
    {
      "cell_type": "markdown",
      "metadata": {},
      "source": [
        "# объединение датафреймов (merge,join или concat),\n"
      ]
    },
    {
      "cell_type": "markdown",
      "metadata": {},
      "source": [
        "# статическая визуализация seaborn,\n"
      ]
    },
    {
      "cell_type": "markdown",
      "metadata": {},
      "source": [
        "# интерактивный график plotly,\n"
      ]
    },
    {
      "cell_type": "markdown",
      "metadata": {},
      "source": [
        "# визуализация распределений (гистограмма относительных частот, kde, boxplot, violinplot, scatter),\n"
      ]
    },
    {
      "cell_type": "markdown",
      "metadata": {},
      "source": [
        "# тесты на свойства распределения (например, нормальность),\n"
      ]
    },
    {
      "cell_type": "markdown",
      "metadata": {},
      "source": [
        "# One Hot Encoding для категориальных признаков (если их нет, то придумайте как некие классы, определяемые по другим числовым признакам)  "
      ]
    },
    {
      "cell_type": "markdown",
      "metadata": {
        "id": "-eakPedP6Eik"
      },
      "source": [
        "<font color='DarkOrange'>**Задание 2 [баллов: 4]:**</font>\n",
        "\n",
        "1.Выберите один из признаков как таргет (регрессант, предиктант), также выберите некоторе число признаков в качестве регрессоров (предикторов). Обоснуйте, что эти признаки имеет смысл использовать как регрессоры, исходя из предметной области (природы датасета), проведите аналитику - представьте код и рисунки. [<font color='DarkOrange'>1 балл</font>]\n",
        "\n",
        "<font color='DarkOrange'>Важно! </font> Если выполняете исследование данных до разделения на обучающую, которая нужна для моделирования, и отложенную выборки (тестовую), то это потенциал для утечек (data leakage)! Следует сразу отделить часть данных, исследовать их только перед прогоном на уже обученной готовой модели!\n",
        "\n",
        "2.Обучите линейную регрессионную модель без регуляризации. Проиллюстрируйте процесс обучения и тестирования модели, запишите выводы о качестве. Метрики: RMSE, MAE, $R^{2}$ [<font color='DarkOrange'>1 балл</font>]\n",
        "\n",
        "3.Обучите линейную регрессионную модель с регуляризацией (любой). Для предобработки осуществите удаление выбросов и нормирование - запишите обоснование для выбора способа поиска выбросов и нормирования. Используйте для этапов Pipeline из sklearn. Проиллюстрируйте процесс обучения и тестирования модели, запишите выводы о качестве. Метрики: RMSE, MAE, $R^{2}$ [<font color='DarkOrange'>2 балла</font>]"
      ]
    },
    {
      "cell_type": "markdown",
      "metadata": {
        "id": "TUz27GaBJ_pK"
      },
      "source": [
        "<font color='MediumSeaGreen'>**Задание 3 [баллов: 2] - бонусные баллы:**</font>\n",
        "\n",
        "По итогам лекции №1 ответьте на вопросы о месте искусственного интеллекта среди инноваций в крупной компании (пример \"Норильского никеля\" - см видео в группе в ТГ).\n",
        "\n",
        "1.Какие задачи моделирования и управления решаются?\n",
        "\n",
        "2.Какие разделы/формальные задачи ИИ задействованы?\n",
        "\n",
        "3.Какие физико-химические признаки для них используются?\n",
        "\n",
        "4.Укажите (предположите) для нескольких признаков: числовые или категориальные, временная и пространственная дискретность регистрации, сырой признак или агрегат по нескольким, сильно зашумленный, много ли пропусков, особенности закона распределения, потенциал для data leakage\n"
      ]
    },
    {
      "cell_type": "markdown",
      "metadata": {
        "id": "DWa9rDFhmcBp"
      },
      "source": [
        "<font color='MediumSeaGreen'>**Задание 4 [баллов: 3] - бонусные баллы:**</font>\n",
        "\n",
        "Покажите, что из максимизации правдоподобия выборки невязок, распределенных по нормальному закону, следует задача минимизации ошибки MSE, вычисленной по этим невязкам.\n",
        "\n",
        "Обоснование принесет вам 2 балла.\n",
        "Если выполните не на листе бумаги, а заполните ячейку (математические символы), то получите ещё 1 балл. Пример текста с математикой ниже"
      ]
    },
    {
      "cell_type": "markdown",
      "metadata": {
        "id": "Y5LAChTcohBF"
      },
      "source": [
        "<font color='MediumSeaGreen'>***Пример текста***</font>\n",
        "\n",
        "Из курса математического анализы мы знаем, что тригонометрические функции можно также применять к матрицам. Чтобы найти $sin(X)$, где $X \\in \\mathbb{R}^{n\\times n}$ – матрица с $n$ строками и $n$ столбцами, достаточно разложить функцию синус в ряд Тейлора:\n",
        "\n",
        "$sin(x) = \\sum_{i=1}^{\\infty} a_i(x) = x - \\frac{x^3}{3!} + \\frac{x^5}{5!} - \\frac{x^7}{7!}+\\dots$\n",
        "\n",
        "И вместо $x$ подставить матрицу $X$:\n",
        "\n",
        "$sin(X) = X - \\frac{X^3}{3!} + \\frac{X^5}{5!} - \\frac{X^7}{7!}+\\dots$\n",
        "\n",
        "Тогда $sin(X)$ – тоже матрица!\n",
        "\n",
        "Ограничимся 15 степенью, то есть:\n",
        "$sin(X) \\approx X - \\frac{X^3}{3!} + \\frac{X^5}{5!} - \\frac{X^7}{7!}+ \\dots - \\frac{X^{15}}{15!}$"
      ]
    }
  ],
  "metadata": {
    "accelerator": "GPU",
    "colab": {
      "gpuType": "T4",
      "provenance": [],
      "toc_visible": true
    },
    "kernelspec": {
      "display_name": "Python 3",
      "name": "python3"
    },
    "language_info": {
      "codemirror_mode": {
        "name": "ipython",
        "version": 3
      },
      "file_extension": ".py",
      "mimetype": "text/x-python",
      "name": "python",
      "nbconvert_exporter": "python",
      "pygments_lexer": "ipython3",
      "version": "3.13.2"
    }
  },
  "nbformat": 4,
  "nbformat_minor": 0
}
